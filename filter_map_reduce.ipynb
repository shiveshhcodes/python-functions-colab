{
  "nbformat": 4,
  "nbformat_minor": 0,
  "metadata": {
    "colab": {
      "provenance": [],
      "authorship_tag": "ABX9TyNoI6cSiBc/4TpKhiVLSZiS",
      "include_colab_link": true
    },
    "kernelspec": {
      "name": "python3",
      "display_name": "Python 3"
    },
    "language_info": {
      "name": "python"
    }
  },
  "cells": [
    {
      "cell_type": "markdown",
      "metadata": {
        "id": "view-in-github",
        "colab_type": "text"
      },
      "source": [
        "<a href=\"https://colab.research.google.com/github/shiveshhcodes/python-functions-colab/blob/main/filter_map_reduce.ipynb\" target=\"_parent\"><img src=\"https://colab.research.google.com/assets/colab-badge.svg\" alt=\"Open In Colab\"/></a>"
      ]
    },
    {
      "cell_type": "code",
      "source": [
        "def filter_even(numbers):\n",
        "  return list(filter(lambda x: x % 2 == 0, numbers))\n",
        "\n",
        "nums = [1, 2, 3, 4, 5, 6, 7, 8, 9, 10, 44, 56,34,65,23,78]\n",
        "print(filter_even(nums))"
      ],
      "metadata": {
        "colab": {
          "base_uri": "https://localhost:8080/"
        },
        "id": "OcVuD76NLm39",
        "outputId": "00c6e05c-0da1-442a-d032-bedb82652e6a"
      },
      "execution_count": null,
      "outputs": [
        {
          "output_type": "stream",
          "name": "stdout",
          "text": [
            "[2, 4, 6, 8, 10, 44, 56, 34, 78]\n"
          ]
        }
      ]
    },
    {
      "cell_type": "code",
      "source": [
        "def square_numbers(numbers):\n",
        "  return list(map(lambda x: x ** 2, numbers))\n",
        "\n",
        "numbers = [1,2,3,4,5,6,7,8]\n",
        "print(square_numbers(numbers))"
      ],
      "metadata": {
        "colab": {
          "base_uri": "https://localhost:8080/"
        },
        "id": "mOLKVI35MhSV",
        "outputId": "127f9c15-77d5-4782-95a3-e2998d268afa"
      },
      "execution_count": null,
      "outputs": [
        {
          "output_type": "stream",
          "name": "stdout",
          "text": [
            "[1, 4, 9, 16, 25, 36, 49, 64]\n"
          ]
        }
      ]
    },
    {
      "cell_type": "code",
      "source": [
        "from functools import reduce\n",
        "\n",
        "def sum_numbers(numbers):\n",
        "  return reduce(lambda x,y: x+y, numbers)\n",
        "\n",
        "numbers = [1,2,3,4,5,6,7,8]\n",
        "print(sum_numbers(nums))"
      ],
      "metadata": {
        "colab": {
          "base_uri": "https://localhost:8080/"
        },
        "id": "hpYSSBZsYzOP",
        "outputId": "2bd35c9d-90a4-4506-856f-893f6e8bb120"
      },
      "execution_count": null,
      "outputs": [
        {
          "output_type": "stream",
          "name": "stdout",
          "text": [
            "355\n"
          ]
        }
      ]
    },
    {
      "cell_type": "code",
      "source": [
        "nums_dict = {x: x**3 for x in range(1,21)}\n",
        "print(nums_dict)"
      ],
      "metadata": {
        "colab": {
          "base_uri": "https://localhost:8080/"
        },
        "id": "1U-x6a_XZko1",
        "outputId": "e985a498-338c-4379-df39-7f27ae0a598f"
      },
      "execution_count": null,
      "outputs": [
        {
          "output_type": "stream",
          "name": "stdout",
          "text": [
            "{1: 1, 2: 8, 3: 27, 4: 64, 5: 125, 6: 216, 7: 343, 8: 512, 9: 729, 10: 1000, 11: 1331, 12: 1728, 13: 2197, 14: 2744, 15: 3375, 16: 4096, 17: 4913, 18: 5832, 19: 6859, 20: 8000}\n"
          ]
        }
      ]
    },
    {
      "cell_type": "code",
      "source": [
        "import numpy as np\n",
        "np1 = np.array([0,1,2,3,4,5,6,7,8,9])\n",
        "print(np1)\n",
        "print(np1.shape)\n",
        "\n",
        "np2 = np.arange(10)\n",
        "print(np2)\n",
        "\n",
        "np3 = np.arange(0,33,3)\n",
        "print(np3)\n",
        "\n",
        "np4 = np.arange(0,10,0.5)\n",
        "print(np4)\n",
        "\n",
        "np5 = np.zeros((2,10))\n",
        "print(np5)\n",
        "\n",
        "np6 = np.full((2,10), 5)\n",
        "print(np6)"
      ],
      "metadata": {
        "colab": {
          "base_uri": "https://localhost:8080/"
        },
        "id": "VWfDdHryFVHW",
        "outputId": "a881acfd-3d76-42e5-bb8b-59ebca7a6fe1"
      },
      "execution_count": 23,
      "outputs": [
        {
          "output_type": "stream",
          "name": "stdout",
          "text": [
            "[0 1 2 3 4 5 6 7 8 9]\n",
            "(10,)\n",
            "[0 1 2 3 4 5 6 7 8 9]\n",
            "[ 0  3  6  9 12 15 18 21 24 27 30]\n",
            "[0.  0.5 1.  1.5 2.  2.5 3.  3.5 4.  4.5 5.  5.5 6.  6.5 7.  7.5 8.  8.5\n",
            " 9.  9.5]\n",
            "[[0. 0. 0. 0. 0. 0. 0. 0. 0. 0.]\n",
            " [0. 0. 0. 0. 0. 0. 0. 0. 0. 0.]]\n",
            "[[5 5 5 5 5 5 5 5 5 5]\n",
            " [5 5 5 5 5 5 5 5 5 5]]\n"
          ]
        }
      ]
    }
  ]
}